{
 "cells": [
  {
   "cell_type": "markdown",
   "metadata": {},
   "source": [
    "# 1.0 Introduction\n",
    "Deep learning (also known as deep structured learning or hierarchical learning) is part of a broader family of machine learning methods based on learning data representations, as opposed to task-specific algorithms. Learning can be supervised, semi-supervised or unsupervised.\n",
    "\n",
    "Deep learning architectures such as deep neural networks, deep belief networks, convolutional neural network and recurrent neural networks have been applied to fields including computer vision, speech recognition, natural language processing,image processing, audio recognition, social network filtering, machine translation, bioinformatics, drug design and board game programs, where they have produced results comparable to and in some cases superior to human experts.\n",
    "Deep learning models are vaguely inspired by information processing and communication patterns in biological nervous systems yet have various differences from the structural and functional properties of biological brains (especially human brains), which make them incompatible with neuroscience evidences. Because of the rapid advancement in computer and the development of sophisticated algorthm, computer can compute and predict somthing samrter than ever before. When for the first time competion was released for image processing it was thought that more than 50% accuracy will not be possible. But beacuse of some breakthrough algorithms such as CNN, RNN and evolving of deep learning image recognition and image processing drastically increased the prediction. And today's coputer vision can predict with 99.0% of accuracy. "
   ]
  },
  {
   "cell_type": "markdown",
   "metadata": {},
   "source": [
    "# 2.0 Project Objectives\n",
    "- To observe students dress up among the IIUM community\n",
    "- To collect pictures of students\n",
    "- To learn about how to collect data\n",
    "- T0 learn about data preprocessing and data augmentation\n",
    "- To apply deep learning for imgage classification\n",
    "- To build deep learning model and evaluate it.\n",
    "- To learn how to use deep learning libray to solve real world problem such as image classification\n",
    "- To dive deep into deep learning field and gather knowledge.\n",
    "- Obtain practical experience with machine learning"
   ]
  },
  {
   "cell_type": "markdown",
   "metadata": {},
   "source": [
    "# 3.0 Expected output/ Result\n",
    "From our collected data which are images of students, we will classify it into two parts. One classification is to\n",
    "put together all images of students whose dress up are align with university dresscode. The images of students whose dresscode\n",
    "are not align with the university dresscode go to the category of another classification.\n",
    "Our goal is to classify it using convolutional nueral retwork. Once the model is built we will evaluate it using validation set of our data. As we use binary classification in our model, our model will return in range between 0 and 1 as output whereas the greater score represent that the student is well dressed up."
   ]
  },
  {
   "cell_type": "markdown",
   "metadata": {},
   "source": [
    "# 4.0 Gathering Knowledge \n",
    "To Create the our model, we have used keras deep learning library. We have used most of the effective features of keras for image classification. For better understading of the keras features, such as models, layer, Activation functions, we have picked up some of the explanation from the keras documentation which goes as follows."
   ]
  },
  {
   "cell_type": "markdown",
   "metadata": {},
   "source": [
    "\n",
    "# 4.1 What is Keras?\n",
    "Keras is a high-level neural networks API, written in Python and capable of running on top of TensorFlow, CNTK, or Theano. It was developed with a focus on enabling fast experimentation. Being able to go from idea to result with the least possible delay is key to doing good research.\n",
    "\n",
    "# 4.2 Keras Sequential model\n",
    "The core data structure of Keras is a model, a way to organize layers. The simplest type of model is the Sequential model, a linear stack of layers\n",
    "\n",
    "# 4.3 Keras Layer\n",
    "\n",
    "# 4.3.1. Conv2d\n",
    "keras.layers.Conv2D(filters, kernel_size, strides=(1, 1), padding='valid', data_format=None, dilation_rate=(1, 1), activation=None, use_bias=True, kernel_initializer='glorot_uniform', bias_initializer='zeros', kernel_regularizer=None, bias_regularizer=None, activity_regularizer=None, kernel_constraint=None, bias_constraint=None)\n",
    "2D convolution layer (e.g. spatial convolution over images).\n",
    "\n",
    "This layer creates a convolution kernel that is convolved with the layer input to produce a tensor of outputs. If  use_bias is True, a bias vector is created and added to the outputs. Finally, if activation is not None, it is applied to the outputs as well.\n",
    "\n",
    "When using this layer as the first layer in a model, provide the keyword argument input_shape (tuple of integers, does not include the batch axis), e.g. input_shape=(128, 128, 3) for 128x128 RGB pictures in  data_format=\"channels_last\".\n",
    "\n",
    "# 4.3.2 ReLu\n",
    "ReLU\n",
    "keras.layers.ReLU(max_value=None, negative_slope=0.0, threshold=0.0)\n",
    "Rectified Linear Unit activation function.\n",
    "\n",
    "With default values, it returns element-wise max(x, 0).\n",
    "\n",
    "Otherwise, it follows: f(x) = max_value for x >= max_value, f(x) = x for  threshold <= x < max_value, f(x) = negative_slope * (x - threshold) otherwise.\n",
    "\n",
    "Input shape\n",
    "\n",
    "Arbitrary. Use the keyword argument input_shape (tuple of integers, does not include the samples axis) when using this layer as the first layer in a model.\n",
    "\n",
    "Output shape\n",
    "\n",
    "Same shape as the input.\n",
    "\n",
    "# 4.3.3 MaxPooling2d\n",
    "MaxPooling2D\n",
    "keras.layers.MaxPooling2D(pool_size=(2, 2), strides=None, padding='valid', data_format=None)\n",
    "Max pooling operation for spatial data.\n",
    "Input shape\n",
    "\n",
    "If data_format='channels_last': 4D tensor with shape:  (batch_size, rows, cols, channels)\n",
    "If data_format='channels_first': 4D tensor with shape:  (batch_size, channels, rows, cols)\n",
    "Output shape\n",
    "\n",
    "If data_format='channels_last': 4D tensor with shape: (batch_size, pooled_rows, pooled_cols, channels)\n",
    "If data_format='channels_first': 4D tensor with shape: (batch_size, channels, pooled_rows, pooled_cols)\n",
    "\n"
   ]
  },
  {
   "cell_type": "markdown",
   "metadata": {},
   "source": [
    "# 5.0 Gooing Deep"
   ]
  },
  {
   "cell_type": "markdown",
   "metadata": {},
   "source": [
    "# 5.1 Importing Modules"
   ]
  },
  {
   "cell_type": "code",
   "execution_count": 1,
   "metadata": {},
   "outputs": [
    {
     "name": "stderr",
     "output_type": "stream",
     "text": [
      "C:\\Users\\ICT_H\\Anaconda3\\lib\\site-packages\\h5py\\__init__.py:36: FutureWarning: Conversion of the second argument of issubdtype from `float` to `np.floating` is deprecated. In future, it will be treated as `np.float64 == np.dtype(float).type`.\n",
      "  from ._conv import register_converters as _register_converters\n",
      "Using TensorFlow backend.\n"
     ]
    }
   ],
   "source": [
    "from keras.preprocessing.image import ImageDataGenerator\n",
    "from keras.models import Sequential\n",
    "from keras.layers import Conv2D, MaxPooling2D\n",
    "from keras.layers import Activation, Dropout, Flatten, Dense\n",
    "from keras import backend as K\n",
    "from keras.models import load_model\n",
    "import numpy as np\n",
    "from PIL import Image\n",
    "from keras.preprocessing import image\n",
    "from keras.utils import plot_model\n",
    "from IPython.display import SVG\n",
    "from keras.utils.vis_utils import model_to_dot\n",
    "import matplotlib.pyplot as plt\n",
    "import os\n",
    "os.environ[\"PATH\"] += os.pathsep + 'C:/Program Files (x86)/Graphviz2.38/bin/'"
   ]
  },
  {
   "cell_type": "markdown",
   "metadata": {},
   "source": [
    "# 5.2  Data pre-processing and data augmentation\n",
    "In order to make the most of our few training examples, we will \"augment\" them via a number of random transformations, so that our model would never see twice the exact same picture. This helps prevent overfitting and helps the model generalize better.\n",
    "\n",
    "In Keras this can be done via the keras.preprocessing.image.ImageDataGenerator class."
   ]
  },
  {
   "cell_type": "code",
   "execution_count": 2,
   "metadata": {},
   "outputs": [],
   "source": [
    "datagen = ImageDataGenerator(\n",
    "        rotation_range=40,\n",
    "        width_shift_range=0.2,\n",
    "        height_shift_range=0.2,\n",
    "        rescale=1./255,\n",
    "        shear_range=0.2,\n",
    "        zoom_range=0.2,\n",
    "        horizontal_flip=True,\n",
    "        fill_mode='nearest')"
   ]
  },
  {
   "cell_type": "code",
   "execution_count": 3,
   "metadata": {},
   "outputs": [],
   "source": [
    "# dimensions of our images\n",
    "\n",
    "img_width, img_height = 150, 150\n",
    "train_data_dir = 'data/train'\n",
    "validation_data_dir = 'data/validation'\n",
    "nb_train_samples = 65\n",
    "nb_validation_samples = 12\n",
    "epochs = 50\n",
    "batch_size = 16"
   ]
  },
  {
   "cell_type": "code",
   "execution_count": 4,
   "metadata": {},
   "outputs": [],
   "source": [
    "if K.image_data_format() == 'channels_first':\n",
    "    input_shape = (3, img_width, img_height)\n",
    "else:\n",
    "    input_shape = (img_width, img_height, 3)"
   ]
  },
  {
   "cell_type": "markdown",
   "metadata": {},
   "source": [
    "# 5.3 Training a small convnet\n",
    "In our case we will use a very small convnet with few layers and few filters per layer, alongside data augmentation and dropout. Dropout also helps reduce overfitting, by preventing a layer from seeing twice the exact same pattern, thus acting in a way analoguous to data augmentation (you could say that both dropout and data augmentation tend to disrupt random correlations occuring in your data).\n",
    "\n",
    "The code snippet below is our first model, a simple stack of 3 convolution layers with a ReLU activation and followed by max-pooling layers."
   ]
  },
  {
   "cell_type": "code",
   "execution_count": 5,
   "metadata": {},
   "outputs": [],
   "source": [
    "model = Sequential()\n",
    "model.add(Conv2D(32, (3, 3), input_shape=input_shape))\n",
    "model.add(Activation('relu'))\n",
    "model.add(MaxPooling2D(pool_size=(2, 2)))"
   ]
  },
  {
   "cell_type": "code",
   "execution_count": 6,
   "metadata": {},
   "outputs": [],
   "source": [
    "model.add(Conv2D(32, (3, 3)))\n",
    "model.add(Activation('relu'))\n",
    "model.add(MaxPooling2D(pool_size=(2, 2)))"
   ]
  },
  {
   "cell_type": "code",
   "execution_count": 7,
   "metadata": {},
   "outputs": [],
   "source": [
    "model.add(Conv2D(64, (3, 3)))\n",
    "model.add(Activation('relu'))\n",
    "model.add(MaxPooling2D(pool_size=(2, 2)))"
   ]
  },
  {
   "cell_type": "code",
   "execution_count": 8,
   "metadata": {},
   "outputs": [],
   "source": [
    "model.add(Flatten())\n",
    "model.add(Dense(64))\n",
    "model.add(Activation('relu'))\n",
    "model.add(Dropout(0.5))\n",
    "model.add(Dense(1))\n",
    "model.add(Activation('sigmoid'))\n",
    "\n",
    "model.compile(loss='binary_crossentropy',\n",
    "              optimizer='rmsprop',\n",
    "              metrics=['accuracy'])"
   ]
  },
  {
   "cell_type": "code",
   "execution_count": 9,
   "metadata": {},
   "outputs": [],
   "source": [
    "train_datagen = ImageDataGenerator(\n",
    "    rescale=1. / 255,\n",
    "    shear_range=0.2,\n",
    "    zoom_range=0.2,\n",
    "    horizontal_flip=True)"
   ]
  },
  {
   "cell_type": "code",
   "execution_count": 10,
   "metadata": {},
   "outputs": [],
   "source": [
    "test_datagen = ImageDataGenerator(rescale=1. / 255)"
   ]
  },
  {
   "cell_type": "code",
   "execution_count": 11,
   "metadata": {},
   "outputs": [
    {
     "name": "stdout",
     "output_type": "stream",
     "text": [
      "Found 130 images belonging to 2 classes.\n"
     ]
    }
   ],
   "source": [
    "train_generator = train_datagen.flow_from_directory(\n",
    "    train_data_dir,\n",
    "    target_size=(img_width, img_height),\n",
    "    batch_size=batch_size,\n",
    "    class_mode='binary')"
   ]
  },
  {
   "cell_type": "code",
   "execution_count": 12,
   "metadata": {},
   "outputs": [
    {
     "name": "stdout",
     "output_type": "stream",
     "text": [
      "Found 24 images belonging to 2 classes.\n"
     ]
    }
   ],
   "source": [
    "validation_generator = test_datagen.flow_from_directory(\n",
    "    validation_data_dir,\n",
    "    target_size=(img_width, img_height),\n",
    "    batch_size=batch_size,\n",
    "    class_mode='binary')"
   ]
  },
  {
   "cell_type": "code",
   "execution_count": 13,
   "metadata": {
    "scrolled": true
   },
   "outputs": [
    {
     "name": "stdout",
     "output_type": "stream",
     "text": [
      "Epoch 1/50\n",
      "65/65 [==============================] - 194s 3s/step - loss: 0.6203 - acc: 0.7259 - val_loss: 0.3312 - val_acc: 0.8750\n",
      "Epoch 2/50\n",
      "65/65 [==============================] - 153s 2s/step - loss: 0.3956 - acc: 0.8348 - val_loss: 0.2819 - val_acc: 0.8333\n",
      "Epoch 3/50\n",
      "65/65 [==============================] - 111s 2s/step - loss: 0.2628 - acc: 0.9133 - val_loss: 0.3362 - val_acc: 0.8333\n",
      "Epoch 4/50\n",
      "65/65 [==============================] - 106s 2s/step - loss: 0.1652 - acc: 0.9393 - val_loss: 0.7799 - val_acc: 0.7917\n",
      "Epoch 5/50\n",
      "65/65 [==============================] - 106s 2s/step - loss: 0.0980 - acc: 0.9644 - val_loss: 0.2955 - val_acc: 0.8333\n",
      "Epoch 6/50\n",
      "65/65 [==============================] - 97s 1s/step - loss: 0.0888 - acc: 0.9654 - val_loss: 1.8314 - val_acc: 0.7083\n",
      "Epoch 7/50\n",
      "65/65 [==============================] - 95s 1s/step - loss: 0.1190 - acc: 0.9656 - val_loss: 1.5457 - val_acc: 0.7083\n",
      "Epoch 8/50\n",
      "65/65 [==============================] - 94s 1s/step - loss: 0.0654 - acc: 0.9778 - val_loss: 3.1974 - val_acc: 0.6667\n",
      "Epoch 9/50\n",
      "65/65 [==============================] - 88s 1s/step - loss: 0.0577 - acc: 0.9817 - val_loss: 2.0182 - val_acc: 0.8333\n",
      "Epoch 10/50\n",
      "65/65 [==============================] - 88s 1s/step - loss: 0.0377 - acc: 0.9856 - val_loss: 2.4612 - val_acc: 0.7917\n",
      "Epoch 11/50\n",
      "65/65 [==============================] - 91s 1s/step - loss: 0.0197 - acc: 0.9913 - val_loss: 2.5258 - val_acc: 0.7917\n",
      "Epoch 12/50\n",
      "65/65 [==============================] - 94s 1s/step - loss: 0.0857 - acc: 0.9856 - val_loss: 2.0454 - val_acc: 0.7500\n",
      "Epoch 13/50\n",
      "65/65 [==============================] - 98s 2s/step - loss: 0.0442 - acc: 0.9866 - val_loss: 2.5879 - val_acc: 0.7917\n",
      "Epoch 14/50\n",
      "65/65 [==============================] - 96s 1s/step - loss: 0.0321 - acc: 0.9866 - val_loss: 3.7552 - val_acc: 0.6250\n",
      "Epoch 15/50\n",
      "65/65 [==============================] - 94s 1s/step - loss: 0.0308 - acc: 0.9875 - val_loss: 3.2619 - val_acc: 0.7083\n",
      "Epoch 16/50\n",
      "65/65 [==============================] - 94s 1s/step - loss: 0.0347 - acc: 0.9894 - val_loss: 2.1175 - val_acc: 0.7917\n",
      "Epoch 17/50\n",
      "65/65 [==============================] - 94s 1s/step - loss: 0.0418 - acc: 0.9866 - val_loss: 3.1302 - val_acc: 0.7500\n",
      "Epoch 18/50\n",
      "65/65 [==============================] - 93s 1s/step - loss: 0.0242 - acc: 0.9913 - val_loss: 3.1280 - val_acc: 0.7500\n",
      "Epoch 19/50\n",
      "65/65 [==============================] - 91s 1s/step - loss: 0.0025 - acc: 0.9990 - val_loss: 3.7594 - val_acc: 0.7500\n",
      "Epoch 20/50\n",
      "65/65 [==============================] - 96s 1s/step - loss: 0.0183 - acc: 0.9942 - val_loss: 2.9524 - val_acc: 0.7083\n",
      "Epoch 21/50\n",
      "65/65 [==============================] - 96s 1s/step - loss: 0.0012 - acc: 1.0000 - val_loss: 3.0954 - val_acc: 0.7500\n",
      "Epoch 22/50\n",
      "65/65 [==============================] - 94s 1s/step - loss: 0.0451 - acc: 0.9857 - val_loss: 3.2457 - val_acc: 0.7083\n",
      "Epoch 23/50\n",
      "65/65 [==============================] - 94s 1s/step - loss: 0.0427 - acc: 0.9933 - val_loss: 3.4445 - val_acc: 0.7500\n",
      "Epoch 24/50\n",
      "65/65 [==============================] - 94s 1s/step - loss: 0.0133 - acc: 0.9952 - val_loss: 3.2727 - val_acc: 0.7083\n",
      "Epoch 25/50\n",
      "65/65 [==============================] - 97s 1s/step - loss: 0.0255 - acc: 0.9876 - val_loss: 3.7205 - val_acc: 0.7083\n",
      "Epoch 26/50\n",
      "65/65 [==============================] - 97s 1s/step - loss: 0.0183 - acc: 0.9961 - val_loss: 3.3488 - val_acc: 0.6250\n",
      "Epoch 27/50\n",
      "65/65 [==============================] - 94s 1s/step - loss: 0.0103 - acc: 0.9981 - val_loss: 3.4204 - val_acc: 0.7500\n",
      "Epoch 28/50\n",
      "65/65 [==============================] - 96s 1s/step - loss: 0.0284 - acc: 0.9913 - val_loss: 3.3008 - val_acc: 0.7917\n",
      "Epoch 29/50\n",
      "65/65 [==============================] - 96s 1s/step - loss: 7.6051e-04 - acc: 1.0000 - val_loss: 3.5127 - val_acc: 0.7500\n",
      "Epoch 30/50\n",
      "65/65 [==============================] - 95s 1s/step - loss: 0.0255 - acc: 0.9933 - val_loss: 3.2937 - val_acc: 0.7083\n",
      "Epoch 31/50\n",
      "65/65 [==============================] - 96s 1s/step - loss: 0.0096 - acc: 0.9961 - val_loss: 3.9325 - val_acc: 0.7083\n",
      "Epoch 32/50\n",
      "65/65 [==============================] - 94s 1s/step - loss: 0.0158 - acc: 0.9971 - val_loss: 3.7498 - val_acc: 0.7500\n",
      "Epoch 33/50\n",
      "65/65 [==============================] - 96s 1s/step - loss: 0.0203 - acc: 0.9942 - val_loss: 4.0522 - val_acc: 0.6250\n",
      "Epoch 34/50\n",
      "65/65 [==============================] - 96s 1s/step - loss: 0.0259 - acc: 0.9961 - val_loss: 3.5976 - val_acc: 0.7500\n",
      "Epoch 35/50\n",
      "65/65 [==============================] - 95s 1s/step - loss: 0.0162 - acc: 0.9971 - val_loss: 3.7665 - val_acc: 0.7083\n",
      "Epoch 36/50\n",
      "65/65 [==============================] - 95s 1s/step - loss: 0.0217 - acc: 0.9923 - val_loss: 3.5279 - val_acc: 0.6667\n",
      "Epoch 37/50\n",
      "65/65 [==============================] - 94s 1s/step - loss: 1.6245e-04 - acc: 1.0000 - val_loss: 3.9364 - val_acc: 0.7500\n",
      "Epoch 38/50\n",
      "65/65 [==============================] - 94s 1s/step - loss: 2.3960e-05 - acc: 1.0000 - val_loss: 4.3464 - val_acc: 0.7083\n",
      "Epoch 39/50\n",
      "65/65 [==============================] - 96s 1s/step - loss: 0.1161 - acc: 0.9884 - val_loss: 3.6777 - val_acc: 0.6250\n",
      "Epoch 40/50\n",
      "65/65 [==============================] - 94s 1s/step - loss: 1.1141e-04 - acc: 1.0000 - val_loss: 3.6142 - val_acc: 0.7083\n",
      "Epoch 41/50\n",
      "65/65 [==============================] - 93s 1s/step - loss: 0.0099 - acc: 0.9971 - val_loss: 4.4536 - val_acc: 0.7083\n",
      "Epoch 42/50\n",
      "65/65 [==============================] - 96s 1s/step - loss: 0.0110 - acc: 0.9961 - val_loss: 3.9118 - val_acc: 0.7500\n",
      "Epoch 43/50\n",
      "65/65 [==============================] - 92s 1s/step - loss: 0.0203 - acc: 0.9933 - val_loss: 3.5486 - val_acc: 0.7500\n",
      "Epoch 44/50\n",
      "65/65 [==============================] - 93s 1s/step - loss: 0.0176 - acc: 0.9971 - val_loss: 3.3362 - val_acc: 0.7917\n",
      "Epoch 45/50\n",
      "65/65 [==============================] - 90s 1s/step - loss: 2.3018e-05 - acc: 1.0000 - val_loss: 3.3363 - val_acc: 0.7917\n",
      "Epoch 46/50\n",
      "65/65 [==============================] - 94s 1s/step - loss: 3.4676e-05 - acc: 1.0000 - val_loss: 3.3367 - val_acc: 0.7917\n",
      "Epoch 47/50\n",
      "65/65 [==============================] - 90s 1s/step - loss: 0.0187 - acc: 0.9942 - val_loss: 3.3399 - val_acc: 0.7917\n",
      "Epoch 48/50\n",
      "65/65 [==============================] - 103s 2s/step - loss: 0.0021 - acc: 0.9990 - val_loss: 4.1991 - val_acc: 0.6667\n",
      "Epoch 49/50\n",
      "65/65 [==============================] - 102s 2s/step - loss: 0.0049 - acc: 0.9971 - val_loss: 3.4218 - val_acc: 0.7500\n",
      "Epoch 50/50\n",
      "65/65 [==============================] - 95s 1s/step - loss: 1.4678e-05 - acc: 1.0000 - val_loss: 3.3415 - val_acc: 0.7917\n"
     ]
    }
   ],
   "source": [
    "model.fit_generator(\n",
    "    train_generator,\n",
    "    steps_per_epoch=nb_train_samples,\n",
    "    epochs=epochs,\n",
    "    validation_data=validation_generator,\n",
    "    validation_steps=nb_validation_samples)\n",
    "\n",
    "model.save('dressClassifier2.h5')"
   ]
  },
  {
   "cell_type": "markdown",
   "metadata": {},
   "source": [
    "# 6.0 Testing\n",
    "Now that our model has trained and we can see the accuracy of our model with our validation data set. We can test our model anywhere we want. As our model will be not go in production level. So we test it locally. In order to test it need to load the model. At the same time we need to preprocessing our images before we can eventually test it."
   ]
  },
  {
   "cell_type": "code",
   "execution_count": 2,
   "metadata": {},
   "outputs": [],
   "source": [
    "#laoding model\n",
    "dressPredictor = load_model('dressClassifier2.h5')"
   ]
  },
  {
   "cell_type": "code",
   "execution_count": 14,
   "metadata": {},
   "outputs": [
    {
     "data": {
      "image/png": "[encoded data removed]",
      "text/plain": [
       "<PIL.Image.Image image mode=RGB size=150x150 at 0x15A2ADC5240>"
      ]
     },
     "execution_count": 14,
     "metadata": {},
     "output_type": "execute_result"
    }
   ],
   "source": [
    "test_image = image.load_img('data/test/t2.png', target_size = (150, 150))\n",
    "test_image"
   ]
  },
  {
   "cell_type": "code",
   "execution_count": 15,
   "metadata": {},
   "outputs": [
    {
     "name": "stdout",
     "output_type": "stream",
     "text": [
      "[[0.]]\n",
      "Flag:  bad_Attire\n"
     ]
    }
   ],
   "source": [
    "test_image = image.img_to_array(test_image)\n",
    "test_image = np.expand_dims(test_image, axis = 0)\n",
    "result = dressPredictor.predict(test_image)\n",
    "print(result)\n",
    "if result[0][0] == 1:\n",
    "    prediction = 'good_Attire'\n",
    "else:\n",
    "    prediction = 'bad_Attire'\n",
    "    \n",
    "print('Flag: ',prediction)"
   ]
  },
  {
   "cell_type": "markdown",
   "metadata": {},
   "source": [
    "# 7.0 Model Visualization"
   ]
  },
  {
   "cell_type": "code",
   "execution_count": 16,
   "metadata": {
    "scrolled": true
   },
   "outputs": [
    {
     "data": {
      "image/svg+xml": [
       "<svg height=\"1140pt\" viewBox=\"0.00 0.00 217.00 1140.00\" width=\"217pt\" xmlns=\"http://www.w3.org/2000/svg\" xmlns:xlink=\"http://www.w3.org/1999/xlink\">\n",
       "<g class=\"graph\" id=\"graph0\" transform=\"scale(1 1) rotate(0) translate(4 1136)\">\n",
       "<title>G</title>\n",
       "<polygon fill=\"white\" points=\"-4,4 -4,-1136 213,-1136 213,4 -4,4\" stroke=\"none\"/>\n",
       "<!-- 1515733233848 -->\n",
       "<g class=\"node\" id=\"node1\"><title>1515733233848</title>\n",
       "<polygon fill=\"none\" points=\"41,-1022.5 41,-1058.5 168,-1058.5 168,-1022.5 41,-1022.5\" stroke=\"black\"/>\n",
       "<text font-family=\"Times New Roman,serif\" font-size=\"14.00\" text-anchor=\"middle\" x=\"104.5\" y=\"-1036.8\">conv2d_1: Conv2D</text>\n",
       "</g>\n",
       "<!-- 1515733235584 -->\n",
       "<g class=\"node\" id=\"node2\"><title>1515733235584</title>\n",
       "<polygon fill=\"none\" points=\"30.5,-949.5 30.5,-985.5 178.5,-985.5 178.5,-949.5 30.5,-949.5\" stroke=\"black\"/>\n",
       "<text font-family=\"Times New Roman,serif\" font-size=\"14.00\" text-anchor=\"middle\" x=\"104.5\" y=\"-963.8\">activation_1: Activation</text>\n",
       "</g>\n",
       "<!-- 1515733233848&#45;&gt;1515733235584 -->\n",
       "<g class=\"edge\" id=\"edge2\"><title>1515733233848-&gt;1515733235584</title>\n",
       "<path d=\"M104.5,-1022.31C104.5,-1014.29 104.5,-1004.55 104.5,-995.569\" fill=\"none\" stroke=\"black\"/>\n",
       "<polygon fill=\"black\" points=\"108,-995.529 104.5,-985.529 101,-995.529 108,-995.529\" stroke=\"black\"/>\n",
       "</g>\n",
       "<!-- 1515733235696 -->\n",
       "<g class=\"node\" id=\"node3\"><title>1515733235696</title>\n",
       "<polygon fill=\"none\" points=\"0,-876.5 0,-912.5 209,-912.5 209,-876.5 0,-876.5\" stroke=\"black\"/>\n",
       "<text font-family=\"Times New Roman,serif\" font-size=\"14.00\" text-anchor=\"middle\" x=\"104.5\" y=\"-890.8\">max_pooling2d_1: MaxPooling2D</text>\n",
       "</g>\n",
       "<!-- 1515733235584&#45;&gt;1515733235696 -->\n",
       "<g class=\"edge\" id=\"edge3\"><title>1515733235584-&gt;1515733235696</title>\n",
       "<path d=\"M104.5,-949.313C104.5,-941.289 104.5,-931.547 104.5,-922.569\" fill=\"none\" stroke=\"black\"/>\n",
       "<polygon fill=\"black\" points=\"108,-922.529 104.5,-912.529 101,-922.529 108,-922.529\" stroke=\"black\"/>\n",
       "</g>\n",
       "<!-- 1515733234968 -->\n",
       "<g class=\"node\" id=\"node4\"><title>1515733234968</title>\n",
       "<polygon fill=\"none\" points=\"41,-803.5 41,-839.5 168,-839.5 168,-803.5 41,-803.5\" stroke=\"black\"/>\n",
       "<text font-family=\"Times New Roman,serif\" font-size=\"14.00\" text-anchor=\"middle\" x=\"104.5\" y=\"-817.8\">conv2d_2: Conv2D</text>\n",
       "</g>\n",
       "<!-- 1515733235696&#45;&gt;1515733234968 -->\n",
       "<g class=\"edge\" id=\"edge4\"><title>1515733235696-&gt;1515733234968</title>\n",
       "<path d=\"M104.5,-876.313C104.5,-868.289 104.5,-858.547 104.5,-849.569\" fill=\"none\" stroke=\"black\"/>\n",
       "<polygon fill=\"black\" points=\"108,-849.529 104.5,-839.529 101,-849.529 108,-849.529\" stroke=\"black\"/>\n",
       "</g>\n",
       "<!-- 1515733347408 -->\n",
       "<g class=\"node\" id=\"node5\"><title>1515733347408</title>\n",
       "<polygon fill=\"none\" points=\"30.5,-730.5 30.5,-766.5 178.5,-766.5 178.5,-730.5 30.5,-730.5\" stroke=\"black\"/>\n",
       "<text font-family=\"Times New Roman,serif\" font-size=\"14.00\" text-anchor=\"middle\" x=\"104.5\" y=\"-744.8\">activation_2: Activation</text>\n",
       "</g>\n",
       "<!-- 1515733234968&#45;&gt;1515733347408 -->\n",
       "<g class=\"edge\" id=\"edge5\"><title>1515733234968-&gt;1515733347408</title>\n",
       "<path d=\"M104.5,-803.313C104.5,-795.289 104.5,-785.547 104.5,-776.569\" fill=\"none\" stroke=\"black\"/>\n",
       "<polygon fill=\"black\" points=\"108,-776.529 104.5,-766.529 101,-776.529 108,-776.529\" stroke=\"black\"/>\n",
       "</g>\n",
       "<!-- 1515733348304 -->\n",
       "<g class=\"node\" id=\"node6\"><title>1515733348304</title>\n",
       "<polygon fill=\"none\" points=\"0,-657.5 0,-693.5 209,-693.5 209,-657.5 0,-657.5\" stroke=\"black\"/>\n",
       "<text font-family=\"Times New Roman,serif\" font-size=\"14.00\" text-anchor=\"middle\" x=\"104.5\" y=\"-671.8\">max_pooling2d_2: MaxPooling2D</text>\n",
       "</g>\n",
       "<!-- 1515733347408&#45;&gt;1515733348304 -->\n",
       "<g class=\"edge\" id=\"edge6\"><title>1515733347408-&gt;1515733348304</title>\n",
       "<path d=\"M104.5,-730.313C104.5,-722.289 104.5,-712.547 104.5,-703.569\" fill=\"none\" stroke=\"black\"/>\n",
       "<polygon fill=\"black\" points=\"108,-703.529 104.5,-693.529 101,-703.529 108,-703.529\" stroke=\"black\"/>\n",
       "</g>\n",
       "<!-- 1515733236760 -->\n",
       "<g class=\"node\" id=\"node7\"><title>1515733236760</title>\n",
       "<polygon fill=\"none\" points=\"41,-584.5 41,-620.5 168,-620.5 168,-584.5 41,-584.5\" stroke=\"black\"/>\n",
       "<text font-family=\"Times New Roman,serif\" font-size=\"14.00\" text-anchor=\"middle\" x=\"104.5\" y=\"-598.8\">conv2d_3: Conv2D</text>\n",
       "</g>\n",
       "<!-- 1515733348304&#45;&gt;1515733236760 -->\n",
       "<g class=\"edge\" id=\"edge7\"><title>1515733348304-&gt;1515733236760</title>\n",
       "<path d=\"M104.5,-657.313C104.5,-649.289 104.5,-639.547 104.5,-630.569\" fill=\"none\" stroke=\"black\"/>\n",
       "<polygon fill=\"black\" points=\"108,-630.529 104.5,-620.529 101,-630.529 108,-630.529\" stroke=\"black\"/>\n",
       "</g>\n",
       "<!-- 1515733445096 -->\n",
       "<g class=\"node\" id=\"node8\"><title>1515733445096</title>\n",
       "<polygon fill=\"none\" points=\"30.5,-511.5 30.5,-547.5 178.5,-547.5 178.5,-511.5 30.5,-511.5\" stroke=\"black\"/>\n",
       "<text font-family=\"Times New Roman,serif\" font-size=\"14.00\" text-anchor=\"middle\" x=\"104.5\" y=\"-525.8\">activation_3: Activation</text>\n",
       "</g>\n",
       "<!-- 1515733236760&#45;&gt;1515733445096 -->\n",
       "<g class=\"edge\" id=\"edge8\"><title>1515733236760-&gt;1515733445096</title>\n",
       "<path d=\"M104.5,-584.313C104.5,-576.289 104.5,-566.547 104.5,-557.569\" fill=\"none\" stroke=\"black\"/>\n",
       "<polygon fill=\"black\" points=\"108,-557.529 104.5,-547.529 101,-557.529 108,-557.529\" stroke=\"black\"/>\n",
       "</g>\n",
       "<!-- 1515733445432 -->\n",
       "<g class=\"node\" id=\"node9\"><title>1515733445432</title>\n",
       "<polygon fill=\"none\" points=\"0,-438.5 0,-474.5 209,-474.5 209,-438.5 0,-438.5\" stroke=\"black\"/>\n",
       "<text font-family=\"Times New Roman,serif\" font-size=\"14.00\" text-anchor=\"middle\" x=\"104.5\" y=\"-452.8\">max_pooling2d_3: MaxPooling2D</text>\n",
       "</g>\n",
       "<!-- 1515733445096&#45;&gt;1515733445432 -->\n",
       "<g class=\"edge\" id=\"edge9\"><title>1515733445096-&gt;1515733445432</title>\n",
       "<path d=\"M104.5,-511.313C104.5,-503.289 104.5,-493.547 104.5,-484.569\" fill=\"none\" stroke=\"black\"/>\n",
       "<polygon fill=\"black\" points=\"108,-484.529 104.5,-474.529 101,-484.529 108,-484.529\" stroke=\"black\"/>\n",
       "</g>\n",
       "<!-- 1515733581440 -->\n",
       "<g class=\"node\" id=\"node10\"><title>1515733581440</title>\n",
       "<polygon fill=\"none\" points=\"50,-365.5 50,-401.5 159,-401.5 159,-365.5 50,-365.5\" stroke=\"black\"/>\n",
       "<text font-family=\"Times New Roman,serif\" font-size=\"14.00\" text-anchor=\"middle\" x=\"104.5\" y=\"-379.8\">flatten_1: Flatten</text>\n",
       "</g>\n",
       "<!-- 1515733445432&#45;&gt;1515733581440 -->\n",
       "<g class=\"edge\" id=\"edge10\"><title>1515733445432-&gt;1515733581440</title>\n",
       "<path d=\"M104.5,-438.313C104.5,-430.289 104.5,-420.547 104.5,-411.569\" fill=\"none\" stroke=\"black\"/>\n",
       "<polygon fill=\"black\" points=\"108,-411.529 104.5,-401.529 101,-411.529 108,-411.529\" stroke=\"black\"/>\n",
       "</g>\n",
       "<!-- 1515733348248 -->\n",
       "<g class=\"node\" id=\"node11\"><title>1515733348248</title>\n",
       "<polygon fill=\"none\" points=\"52.5,-292.5 52.5,-328.5 156.5,-328.5 156.5,-292.5 52.5,-292.5\" stroke=\"black\"/>\n",
       "<text font-family=\"Times New Roman,serif\" font-size=\"14.00\" text-anchor=\"middle\" x=\"104.5\" y=\"-306.8\">dense_1: Dense</text>\n",
       "</g>\n",
       "<!-- 1515733581440&#45;&gt;1515733348248 -->\n",
       "<g class=\"edge\" id=\"edge11\"><title>1515733581440-&gt;1515733348248</title>\n",
       "<path d=\"M104.5,-365.313C104.5,-357.289 104.5,-347.547 104.5,-338.569\" fill=\"none\" stroke=\"black\"/>\n",
       "<polygon fill=\"black\" points=\"108,-338.529 104.5,-328.529 101,-338.529 108,-338.529\" stroke=\"black\"/>\n",
       "</g>\n",
       "<!-- 1515733711672 -->\n",
       "<g class=\"node\" id=\"node12\"><title>1515733711672</title>\n",
       "<polygon fill=\"none\" points=\"30.5,-219.5 30.5,-255.5 178.5,-255.5 178.5,-219.5 30.5,-219.5\" stroke=\"black\"/>\n",
       "<text font-family=\"Times New Roman,serif\" font-size=\"14.00\" text-anchor=\"middle\" x=\"104.5\" y=\"-233.8\">activation_4: Activation</text>\n",
       "</g>\n",
       "<!-- 1515733348248&#45;&gt;1515733711672 -->\n",
       "<g class=\"edge\" id=\"edge12\"><title>1515733348248-&gt;1515733711672</title>\n",
       "<path d=\"M104.5,-292.313C104.5,-284.289 104.5,-274.547 104.5,-265.569\" fill=\"none\" stroke=\"black\"/>\n",
       "<polygon fill=\"black\" points=\"108,-265.529 104.5,-255.529 101,-265.529 108,-265.529\" stroke=\"black\"/>\n",
       "</g>\n",
       "<!-- 1515733710328 -->\n",
       "<g class=\"node\" id=\"node13\"><title>1515733710328</title>\n",
       "<polygon fill=\"none\" points=\"39.5,-146.5 39.5,-182.5 169.5,-182.5 169.5,-146.5 39.5,-146.5\" stroke=\"black\"/>\n",
       "<text font-family=\"Times New Roman,serif\" font-size=\"14.00\" text-anchor=\"middle\" x=\"104.5\" y=\"-160.8\">dropout_1: Dropout</text>\n",
       "</g>\n",
       "<!-- 1515733711672&#45;&gt;1515733710328 -->\n",
       "<g class=\"edge\" id=\"edge13\"><title>1515733711672-&gt;1515733710328</title>\n",
       "<path d=\"M104.5,-219.313C104.5,-211.289 104.5,-201.547 104.5,-192.569\" fill=\"none\" stroke=\"black\"/>\n",
       "<polygon fill=\"black\" points=\"108,-192.529 104.5,-182.529 101,-192.529 108,-192.529\" stroke=\"black\"/>\n",
       "</g>\n",
       "<!-- 1515733712512 -->\n",
       "<g class=\"node\" id=\"node14\"><title>1515733712512</title>\n",
       "<polygon fill=\"none\" points=\"52.5,-73.5 52.5,-109.5 156.5,-109.5 156.5,-73.5 52.5,-73.5\" stroke=\"black\"/>\n",
       "<text font-family=\"Times New Roman,serif\" font-size=\"14.00\" text-anchor=\"middle\" x=\"104.5\" y=\"-87.8\">dense_2: Dense</text>\n",
       "</g>\n",
       "<!-- 1515733710328&#45;&gt;1515733712512 -->\n",
       "<g class=\"edge\" id=\"edge14\"><title>1515733710328-&gt;1515733712512</title>\n",
       "<path d=\"M104.5,-146.313C104.5,-138.289 104.5,-128.547 104.5,-119.569\" fill=\"none\" stroke=\"black\"/>\n",
       "<polygon fill=\"black\" points=\"108,-119.529 104.5,-109.529 101,-119.529 108,-119.529\" stroke=\"black\"/>\n",
       "</g>\n",
       "<!-- 1515733799600 -->\n",
       "<g class=\"node\" id=\"node15\"><title>1515733799600</title>\n",
       "<polygon fill=\"none\" points=\"30.5,-0.5 30.5,-36.5 178.5,-36.5 178.5,-0.5 30.5,-0.5\" stroke=\"black\"/>\n",
       "<text font-family=\"Times New Roman,serif\" font-size=\"14.00\" text-anchor=\"middle\" x=\"104.5\" y=\"-14.8\">activation_5: Activation</text>\n",
       "</g>\n",
       "<!-- 1515733712512&#45;&gt;1515733799600 -->\n",
       "<g class=\"edge\" id=\"edge15\"><title>1515733712512-&gt;1515733799600</title>\n",
       "<path d=\"M104.5,-73.3129C104.5,-65.2895 104.5,-55.5475 104.5,-46.5691\" fill=\"none\" stroke=\"black\"/>\n",
       "<polygon fill=\"black\" points=\"108,-46.5288 104.5,-36.5288 101,-46.5289 108,-46.5288\" stroke=\"black\"/>\n",
       "</g>\n",
       "<!-- 1515733234072 -->\n",
       "<g class=\"node\" id=\"node16\"><title>1515733234072</title>\n",
       "<polygon fill=\"none\" points=\"52.5,-1095.5 52.5,-1131.5 156.5,-1131.5 156.5,-1095.5 52.5,-1095.5\" stroke=\"black\"/>\n",
       "<text font-family=\"Times New Roman,serif\" font-size=\"14.00\" text-anchor=\"middle\" x=\"104.5\" y=\"-1109.8\">1515733234072</text>\n",
       "</g>\n",
       "<!-- 1515733234072&#45;&gt;1515733233848 -->\n",
       "<g class=\"edge\" id=\"edge1\"><title>1515733234072-&gt;1515733233848</title>\n",
       "<path d=\"M104.5,-1095.31C104.5,-1087.29 104.5,-1077.55 104.5,-1068.57\" fill=\"none\" stroke=\"black\"/>\n",
       "<polygon fill=\"black\" points=\"108,-1068.53 104.5,-1058.53 101,-1068.53 108,-1068.53\" stroke=\"black\"/>\n",
       "</g>\n",
       "</g>\n",
       "</svg>"
      ],
      "text/plain": [
       "<IPython.core.display.SVG object>"
      ]
     },
     "execution_count": 16,
     "metadata": {},
     "output_type": "execute_result"
    }
   ],
   "source": [
    "SVG(model_to_dot(dressPredictor).create(prog='dot', format='svg'))\n"
   ]
  },
  {
   "cell_type": "code",
   "execution_count": 17,
   "metadata": {},
   "outputs": [
    {
     "name": "stdout",
     "output_type": "stream",
     "text": [
      "_________________________________________________________________\n",
      "Layer (type)                 Output Shape              Param #   \n",
      "=================================================================\n",
      "conv2d_1 (Conv2D)            (None, 148, 148, 32)      896       \n",
      "_________________________________________________________________\n",
      "activation_1 (Activation)    (None, 148, 148, 32)      0         \n",
      "_________________________________________________________________\n",
      "max_pooling2d_1 (MaxPooling2 (None, 74, 74, 32)        0         \n",
      "_________________________________________________________________\n",
      "conv2d_2 (Conv2D)            (None, 72, 72, 32)        9248      \n",
      "_________________________________________________________________\n",
      "activation_2 (Activation)    (None, 72, 72, 32)        0         \n",
      "_________________________________________________________________\n",
      "max_pooling2d_2 (MaxPooling2 (None, 36, 36, 32)        0         \n",
      "_________________________________________________________________\n",
      "conv2d_3 (Conv2D)            (None, 34, 34, 64)        18496     \n",
      "_________________________________________________________________\n",
      "activation_3 (Activation)    (None, 34, 34, 64)        0         \n",
      "_________________________________________________________________\n",
      "max_pooling2d_3 (MaxPooling2 (None, 17, 17, 64)        0         \n",
      "_________________________________________________________________\n",
      "flatten_1 (Flatten)          (None, 18496)             0         \n",
      "_________________________________________________________________\n",
      "dense_1 (Dense)              (None, 64)                1183808   \n",
      "_________________________________________________________________\n",
      "activation_4 (Activation)    (None, 64)                0         \n",
      "_________________________________________________________________\n",
      "dropout_1 (Dropout)          (None, 64)                0         \n",
      "_________________________________________________________________\n",
      "dense_2 (Dense)              (None, 1)                 65        \n",
      "_________________________________________________________________\n",
      "activation_5 (Activation)    (None, 1)                 0         \n",
      "=================================================================\n",
      "Total params: 1,212,513\n",
      "Trainable params: 1,212,513\n",
      "Non-trainable params: 0\n",
      "_________________________________________________________________\n"
     ]
    }
   ],
   "source": [
    "dressPredictor.summary()"
   ]
  },
  {
   "cell_type": "markdown",
   "metadata": {},
   "source": [
    "# 8.0 References\n",
    "- https://keras.io/\n",
    "- https://en.wikipedia.org/wiki/Deep_learning\n",
    "- https://blog.keras.io/building-powerful-image-classification-models-using-very-little-data.html\n",
    "- https://towardsdatascience.com/"
   ]
  }
 ],
 "metadata": {
  "kernelspec": {
   "display_name": "Python 3",
   "language": "python",
   "name": "python3"
  },
  "language_info": {
   "codemirror_mode": {
    "name": "ipython",
    "version": 3
   },
   "file_extension": ".py",
   "mimetype": "text/x-python",
   "name": "python",
   "nbconvert_exporter": "python",
   "pygments_lexer": "ipython3",
   "version": "3.6.5"
  }
 },
 "nbformat": 4,
 "nbformat_minor": 2
}
